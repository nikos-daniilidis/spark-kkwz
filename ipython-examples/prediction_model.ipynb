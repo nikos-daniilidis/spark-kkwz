{
 "cells": [
  {
   "cell_type": "code",
   "execution_count": 55,
   "metadata": {
    "collapsed": false
   },
   "outputs": [],
   "source": [
    "import os.path\n",
    "from math import log, exp\n",
    "import numpy as np\n",
    "from matplotlib import pyplot as plt\n",
    "from pyspark import SparkConf, SparkContext\n",
    "from pyspark.mllib.regression import LabeledPoint\n",
    "from pyspark.mllib.classification import LogisticRegressionWithSGD"
   ]
  },
  {
   "cell_type": "code",
   "execution_count": 58,
   "metadata": {
    "collapsed": false
   },
   "outputs": [],
   "source": [
    "% matplotlib inline\n",
    "#conf = SparkConf().setMaster(\"local\").setAppName(\"My App\")\n",
    "#sc = SparkContext(conf=conf)"
   ]
  },
  {
   "cell_type": "markdown",
   "metadata": {},
   "source": [
    "### Read data"
   ]
  },
  {
   "cell_type": "code",
   "execution_count": 24,
   "metadata": {
    "collapsed": false
   },
   "outputs": [],
   "source": [
    "filePath = os.path.join('data','abalone_data.csv')\n",
    "\n",
    "numPartitions = 2\n",
    "rawData = (sc.\n",
    "           textFile(filePath).\n",
    "           map(lambda line: line.split(\",\")))  # is this necessary?"
   ]
  },
  {
   "cell_type": "markdown",
   "metadata": {},
   "source": [
    "###Convert to LabeledPoint of Numpy array"
   ]
  },
  {
   "cell_type": "code",
   "execution_count": 34,
   "metadata": {
    "collapsed": false
   },
   "outputs": [
    {
     "name": "stdout",
     "output_type": "stream",
     "text": [
      "[LabeledPoint(0.0, [0.455,0.365,0.095,0.514,0.2245,0.101,0.15,15.0])]\n"
     ]
    }
   ],
   "source": [
    "def label_map(clss):\n",
    "    if clss == \"M\":\n",
    "        return 0\n",
    "    else:\n",
    "        return 1\n",
    "\n",
    "def line_to_labeled(lst):\n",
    "    \"\"\"Map a list of items to LabeledPoint of (label, numpy array)\n",
    "    \"\"\"\n",
    "    return LabeledPoint(label_map(lst[0]), np.array([float(el) for el in lst[1:]]) )\n",
    "\n",
    "ex = rawData.take(1)\n",
    "#print ex\n",
    "#print line_to_labeled(ex[0])\n",
    "labeledPointData = rawData.map(lambda ls: line_to_labeled(ls))\n",
    "print labeledPointData.take(1)"
   ]
  },
  {
   "cell_type": "markdown",
   "metadata": {},
   "source": [
    "### Split into train-test-validation"
   ]
  },
  {
   "cell_type": "code",
   "execution_count": 35,
   "metadata": {
    "collapsed": false
   },
   "outputs": [
    {
     "name": "stdout",
     "output_type": "stream",
     "text": [
      "3359 416 402 4177\n",
      "[LabeledPoint(0.0, [0.455,0.365,0.095,0.514,0.2245,0.101,0.15,15.0])]\n"
     ]
    }
   ],
   "source": [
    "weights = [.8, .1, .1]\n",
    "seed = 42\n",
    "# Use randomSplit with weights and seed\n",
    "labeledTrainData, labeledValidationData, labeledTestData = labeledPointData.randomSplit(weights, seed)  # <FILL IN>\n",
    "# Cache the data\n",
    "labeledTrainData.cache()\n",
    "labeledValidationData.cache()\n",
    "labeledTestData.cache()\n",
    "\n",
    "nTrain = labeledTrainData.count()  # <FILL IN>\n",
    "nVal = labeledValidationData.count()  # <FILL IN>\n",
    "nTest = labeledTestData.count()  # <FILL IN>\n",
    "print nTrain, nVal, nTest, nTrain + nVal + nTest\n",
    "print labeledPointData.take(1)"
   ]
  },
  {
   "cell_type": "markdown",
   "metadata": {},
   "source": [
    "### Set parameters and train logistic regression"
   ]
  },
  {
   "cell_type": "code",
   "execution_count": 37,
   "metadata": {
    "collapsed": true
   },
   "outputs": [],
   "source": [
    "numIters = 50\n",
    "stepSize = 10.\n",
    "regParam = 1e-6\n",
    "regType = 'l2'\n",
    "includeIntercept = True"
   ]
  },
  {
   "cell_type": "code",
   "execution_count": 39,
   "metadata": {
    "collapsed": false
   },
   "outputs": [
    {
     "name": "stdout",
     "output_type": "stream",
     "text": [
      "[-4.0979135662854862, -1.9276307937301758, -1.0111253065652182, -0.85237866379792626, -0.054813505521983399] 3.97218343737\n"
     ]
    }
   ],
   "source": [
    "model0 = LogisticRegressionWithSGD.train(labeledTrainData,\n",
    "                                         iterations=numIters,\n",
    "                                         step=stepSize,\n",
    "                                         regParam=regParam,\n",
    "                                         regType=regType,\n",
    "                                         intercept=includeIntercept)  # <FILL IN>\n",
    "sortedWeights = sorted(model0.weights)\n",
    "print sortedWeights[:5], model0.intercept"
   ]
  },
  {
   "cell_type": "code",
   "execution_count": 42,
   "metadata": {
    "collapsed": true
   },
   "outputs": [],
   "source": [
    "def computeLogLoss(p, y):\n",
    "    \"\"\"Calculate the value of log loss for a given probabilty and label.\n",
    "    \"\"\"\n",
    "    epsilon = 10e-12\n",
    "    return (float(y) - 1.) * log(1-p+epsilon) - float(y) * log(p+epsilon)\n",
    "\n",
    "def getP(x, w, intercept):\n",
    "    \"\"\"Calculate the probability for an observation given a set of weights and intercept.\n",
    "    \"\"\"\n",
    "    rawPrediction = intercept + w.dot(x)\n",
    "\n",
    "    # Bound the raw prediction value\n",
    "    rawPrediction = min(rawPrediction, 20)\n",
    "    rawPrediction = max(rawPrediction, -20)\n",
    "    return 1/(1 + exp(-1 * rawPrediction))  # <FILL IN>"
   ]
  },
  {
   "cell_type": "code",
   "execution_count": 43,
   "metadata": {
    "collapsed": false
   },
   "outputs": [
    {
     "name": "stdout",
     "output_type": "stream",
     "text": [
      "[0.9999999162541965, 0.9999447107702242, 0.9999215613979342, 0.9999871975871831, 0.9999511845150241, 0.9999606461932551, 0.9999999979373282, 0.9999998851648239, 0.9999999894861461, 0.9999929137814919]\n"
     ]
    }
   ],
   "source": [
    "trainingPredictions = labeledTrainData.map(lambda x: getP(x.features, model0.weights, model0.intercept))\n",
    "print trainingPredictions.take(10)"
   ]
  },
  {
   "cell_type": "markdown",
   "metadata": {},
   "source": [
    "#### What is the class imbalance in the data?"
   ]
  },
  {
   "cell_type": "code",
   "execution_count": 66,
   "metadata": {
    "collapsed": false
   },
   "outputs": [
    {
     "name": "stdout",
     "output_type": "stream",
     "text": [
      "Train Data:\n",
      "\tClass one fraction is: 0.634\n",
      "\tBaseline log-loss: 0.456\n",
      "Train Data:\n",
      "\tClass one fraction is: 0.604\n",
      "\tBaseline log-loss: 0.503\n",
      "Train Data:\n",
      "\tClass one fraction is: 0.663\n",
      "\tBaseline log-loss: 0.410\n"
     ]
    }
   ],
   "source": [
    "classOneFraction = (labeledTrainData.\n",
    "                    map(lambda x: float(x.label)).\n",
    "                    mean())\n",
    "logLossTrBase = computeLogLoss(classOneFraction, 1.)\n",
    "print \"Train Data:\"\n",
    "print \"\\tClass one fraction is: %4.3f\" % classOneFraction\n",
    "print \"\\tBaseline log-loss: %4.3f\" % logLossTrBase\n",
    "\n",
    "classOneFractionTs = (labeledTestData.\n",
    "                    map(lambda x: float(x.label)).\n",
    "                    mean())\n",
    "logLossTsBase = computeLogLoss(classOneFractionTs, 1.)\n",
    "print \"Train Data:\"\n",
    "print \"\\tClass one fraction is: %4.3f\" % classOneFractionTs\n",
    "print \"\\tBaseline log-loss: %4.3f\" % logLossTsBase\n",
    "\n",
    "classOneFractionVl = (labeledValidationData.\n",
    "                    map(lambda x: float(x.label)).\n",
    "                    mean())\n",
    "logLossValBase = computeLogLoss(classOneFractionVl, 1.)\n",
    "print \"Train Data:\"\n",
    "print \"\\tClass one fraction is: %4.3f\" % classOneFractionVl\n",
    "print \"\\tBaseline log-loss: %4.3f\" % logLossVlBase\n"
   ]
  },
  {
   "cell_type": "markdown",
   "metadata": {},
   "source": [
    "#### Log loss on train, test, validate data"
   ]
  },
  {
   "cell_type": "code",
   "execution_count": 53,
   "metadata": {
    "collapsed": false
   },
   "outputs": [
    {
     "name": "stdout",
     "output_type": "stream",
     "text": [
      "Train Logloss:\n",
      "\tBaseline = 0.456\n",
      "\tLogReg = 3.428\n",
      "Test Logloss:\n",
      "\tLogReg = 3.837\n",
      "Validate Logloss:\n",
      "\tLogReg = 3.137\n"
     ]
    }
   ],
   "source": [
    "def evaluateResults(model, data):\n",
    "    \"\"\"Calculates the log loss for the data given the model.\n",
    "    \"\"\"\n",
    "    return (data\n",
    "            .map(lambda x: computeLogLoss(getP(x.features, model.weights, model.intercept), float(x.label)))\n",
    "            .mean())\n",
    "\n",
    "logLossTrLR0 = evaluateResults(model0, labeledTrainData)\n",
    "logLossTsLR0 = evaluateResults(model0, labeledTestData)\n",
    "logLossVlLR0 = evaluateResults(model0, labeledValidationData)\n",
    "\n",
    "print ('Train Logloss:\\n\\tBaseline = {0:.3f}\\n\\tLogReg = {1:.3f}'\n",
    "       .format(logLossTrBase, logLossTrLR0))\n",
    "print ('Test Logloss:\\n\\tLogReg = {0:.3f}'\n",
    "       .format(logLossTsLR0))\n",
    "print ('Validate Logloss:\\n\\tLogReg = {0:.3f}'\n",
    "       .format(logLossVlLR0))"
   ]
  },
  {
   "cell_type": "code",
   "execution_count": 56,
   "metadata": {
    "collapsed": true
   },
   "outputs": [],
   "source": [
    "def preparePlot(xticks, yticks, figsize=(10.5, 6), hideLabels=False, gridColor='#999999',\n",
    "                gridWidth=1.0):\n",
    "    \"\"\"Template for generating the plot layout.\"\"\"\n",
    "    plt.close()\n",
    "    fig, ax = plt.subplots(figsize=figsize, facecolor='white', edgecolor='white')\n",
    "    ax.axes.tick_params(labelcolor='#999999', labelsize='10')\n",
    "    for axis, ticks in [(ax.get_xaxis(), xticks), (ax.get_yaxis(), yticks)]:\n",
    "        axis.set_ticks_position('none')\n",
    "        axis.set_ticks(ticks)\n",
    "        axis.label.set_color('#999999')\n",
    "        if hideLabels: axis.set_ticklabels([])\n",
    "    plt.grid(color=gridColor, linewidth=gridWidth, linestyle='-')\n",
    "    map(lambda position: ax.spines[position].set_visible(False), ['bottom', 'top', 'left', 'right'])\n",
    "    return fig, ax"
   ]
  },
  {
   "cell_type": "code",
   "execution_count": 59,
   "metadata": {
    "collapsed": false
   },
   "outputs": [
    {
     "data": {
      "image/png": "[encoded data removed]",
      "text/plain": [
       "<matplotlib.figure.Figure at 0x7f2691a89210>"
      ]
     },
     "metadata": {},
     "output_type": "display_data"
    }
   ],
   "source": [
    "labelsAndScores = labeledValidationData.map(lambda lp:\n",
    "                                            (float(lp.label), getP(lp.features, model0.weights, model0.intercept)))\n",
    "labelsAndWeights = labelsAndScores.collect()\n",
    "labelsAndWeights.sort(key=lambda (k, v): v, reverse=True)\n",
    "labelsByWeight = np.array([k for (k, v) in labelsAndWeights])\n",
    "\n",
    "length = labelsByWeight.size\n",
    "truePositives = labelsByWeight.cumsum()\n",
    "numPositive = truePositives[-1]\n",
    "falsePositives = np.arange(1.0, length + 1, 1.) - truePositives\n",
    "\n",
    "truePositiveRate = truePositives / numPositive\n",
    "falsePositiveRate = falsePositives / (length - numPositive)\n",
    "\n",
    "# Generate layout and plot data\n",
    "fig, ax = preparePlot(np.arange(0., 1.1, 0.1), np.arange(0., 1.1, 0.1))\n",
    "ax.set_xlim(-.05, 1.05), ax.set_ylim(-.05, 1.05)\n",
    "ax.set_ylabel('True Positive Rate (Sensitivity)')\n",
    "ax.set_xlabel('False Positive Rate (1 - Specificity)')\n",
    "plt.plot(falsePositiveRate, truePositiveRate, color='#8cbfd0', linestyle='-', linewidth=3.)\n",
    "plt.plot((0., 1.), (0., 1.), linestyle='--', color='#d6ebf2', linewidth=2.)  # Baseline model\n",
    "pass"
   ]
  },
  {
   "cell_type": "markdown",
   "metadata": {},
   "source": [
    "### Scan parameters and choose best model based on log loss"
   ]
  },
  {
   "cell_type": "code",
   "execution_count": 61,
   "metadata": {
    "collapsed": true
   },
   "outputs": [],
   "source": [
    "numIters = 500\n",
    "regType = 'l2'\n",
    "includeIntercept = True\n",
    "\n",
    "# Initialize variables using values from initial model training\n",
    "bestModel = None\n",
    "bestLogLoss = 1e10"
   ]
  },
  {
   "cell_type": "code",
   "execution_count": 65,
   "metadata": {
    "collapsed": false
   },
   "outputs": [
    {
     "name": "stdout",
     "output_type": "stream",
     "text": [
      "\tstepSize = 3.0, regParam = 1e-07: logloss = 1.026\n",
      "\tstepSize = 3.0, regParam = 1e-06: logloss = 1.027\n",
      "\tstepSize = 3.0, regParam = 1e-05: logloss = 1.027\n",
      "\tstepSize = 3.0, regParam = 1e-04: logloss = 1.026\n",
      "\tstepSize = 3.0, regParam = 1e-03: logloss = 1.022\n",
      "\tstepSize = 3.0, regParam = 1e-02: logloss = 0.990\n",
      "\tstepSize = 6.0, regParam = 1e-07: logloss = 1.010\n",
      "\tstepSize = 6.0, regParam = 1e-06: logloss = 3.362\n",
      "\tstepSize = 6.0, regParam = 1e-05: logloss = 3.361\n",
      "\tstepSize = 6.0, regParam = 1e-04: logloss = 3.378\n",
      "\tstepSize = 6.0, regParam = 1e-03: logloss = 3.460\n",
      "\tstepSize = 6.0, regParam = 1e-02: logloss = 3.717\n",
      "\tstepSize = 9.0, regParam = 1e-07: logloss = 3.355\n",
      "\tstepSize = 9.0, regParam = 1e-06: logloss = 5.335\n",
      "\tstepSize = 9.0, regParam = 1e-05: logloss = 5.166\n",
      "\tstepSize = 9.0, regParam = 1e-04: logloss = 1.983\n",
      "\tstepSize = 9.0, regParam = 1e-03: logloss = 3.536\n",
      "\tstepSize = 9.0, regParam = 1e-02: logloss = 0.654\n",
      "\tstepSize = 12.0, regParam = 1e-07: logloss = 1.038\n",
      "\tstepSize = 12.0, regParam = 1e-06: logloss = 1.019\n",
      "\tstepSize = 12.0, regParam = 1e-05: logloss = 1.573\n",
      "\tstepSize = 12.0, regParam = 1e-04: logloss = 2.752\n",
      "\tstepSize = 12.0, regParam = 1e-03: logloss = 1.069\n",
      "\tstepSize = 12.0, regParam = 1e-02: logloss = 5.961\n",
      "\tstepSize = 15.0, regParam = 1e-07: logloss = 1.519\n",
      "\tstepSize = 15.0, regParam = 1e-06: logloss = 1.207\n",
      "\tstepSize = 15.0, regParam = 1e-05: logloss = 5.657\n",
      "\tstepSize = 15.0, regParam = 1e-04: logloss = 1.182\n",
      "\tstepSize = 15.0, regParam = 1e-03: logloss = 1.057\n",
      "\tstepSize = 15.0, regParam = 1e-02: logloss = 6.729\n",
      "\tstepSize = 18.0, regParam = 1e-07: logloss = 4.510\n",
      "\tstepSize = 18.0, regParam = 1e-06: logloss = 6.729\n",
      "\tstepSize = 18.0, regParam = 1e-05: logloss = 1.877\n",
      "\tstepSize = 18.0, regParam = 1e-04: logloss = 6.725\n",
      "\tstepSize = 18.0, regParam = 1e-03: logloss = 1.650\n",
      "\tstepSize = 18.0, regParam = 1e-02: logloss = 6.702\n",
      "Hashed Features Validation Logloss:\n",
      "\tBaseline = 0.410\n",
      "\tLogReg = 0.654\n"
     ]
    }
   ],
   "source": [
    "stepSizes = [3, 6, 9, 12, 15, 18]\n",
    "regParams = [1e-7, 1e-6, 1e-5, 1e-4, 1e-3, 1e-2]\n",
    "for stepSize in stepSizes:\n",
    "    for regParam in regParams:\n",
    "        model = (LogisticRegressionWithSGD\n",
    "                 .train(labeledTrainData, numIters, stepSize, regParam=regParam, regType=regType,\n",
    "                        intercept=includeIntercept))\n",
    "        logLossVa = evaluateResults(model, labeledValidationData)\n",
    "        print ('\\tstepSize = {0:.1f}, regParam = {1:.0e}: logloss = {2:.3f}'\n",
    "               .format(stepSize, regParam, logLossVa))\n",
    "        if (logLossVa < bestLogLoss):\n",
    "            bestModel = model\n",
    "            bestLogLoss = logLossVa\n",
    "\n",
    "print ('Validation Logloss:\\n\\tBaseline = {0:.3f}\\n\\tLogReg = {1:.3f}'\n",
    "       .format(logLossValBase, bestLogLoss))"
   ]
  },
  {
   "cell_type": "code",
   "execution_count": 68,
   "metadata": {
    "collapsed": false
   },
   "outputs": [
    {
     "name": "stdout",
     "output_type": "stream",
     "text": [
      "\tstepSize = 7.0, regParam = 5e-03: logloss = 4.578\n",
      "\tstepSize = 7.0, regParam = 7e-03: logloss = 4.620\n",
      "\tstepSize = 7.0, regParam = 1e-02: logloss = 4.755\n",
      "\tstepSize = 7.0, regParam = 1e-02: logloss = 1.681\n",
      "\tstepSize = 7.0, regParam = 1e-02: logloss = 4.192\n",
      "\tstepSize = 8.0, regParam = 5e-03: logloss = 2.876\n",
      "\tstepSize = 8.0, regParam = 7e-03: logloss = 2.275\n",
      "\tstepSize = 8.0, regParam = 1e-02: logloss = 1.728\n",
      "\tstepSize = 8.0, regParam = 1e-02: logloss = 4.448\n",
      "\tstepSize = 8.0, regParam = 1e-02: logloss = 0.691\n",
      "\tstepSize = 9.0, regParam = 5e-03: logloss = 4.559\n",
      "\tstepSize = 9.0, regParam = 7e-03: logloss = 5.372\n",
      "\tstepSize = 9.0, regParam = 1e-02: logloss = 0.654\n",
      "\tstepSize = 9.0, regParam = 1e-02: logloss = 6.289\n",
      "\tstepSize = 9.0, regParam = 1e-02: logloss = 0.706\n",
      "\tstepSize = 10.0, regParam = 5e-03: logloss = 2.519\n",
      "\tstepSize = 10.0, regParam = 7e-03: logloss = 6.253\n",
      "\tstepSize = 10.0, regParam = 1e-02: logloss = 5.685\n",
      "\tstepSize = 10.0, regParam = 1e-02: logloss = 6.212\n",
      "\tstepSize = 10.0, regParam = 1e-02: logloss = 1.763\n",
      "\tstepSize = 11.0, regParam = 5e-03: logloss = 6.586\n",
      "\tstepSize = 11.0, regParam = 7e-03: logloss = 6.981\n",
      "\tstepSize = 11.0, regParam = 1e-02: logloss = 1.917\n",
      "\tstepSize = 11.0, regParam = 1e-02: logloss = 0.750\n",
      "\tstepSize = 11.0, regParam = 1e-02: logloss = 8.283\n",
      "Validation Logloss:\n",
      "\tBaseline = 0.410\n",
      "\tLogReg = 0.654\n"
     ]
    }
   ],
   "source": [
    "stepSizes = [7, 8, 9, 10, 11]\n",
    "regParams = [5e-3, 7.5e-3, 1e-2, 1.25e-2, 1.5e-2]\n",
    "for stepSize in stepSizes:\n",
    "    for regParam in regParams:\n",
    "        model = (LogisticRegressionWithSGD\n",
    "                 .train(labeledTrainData, numIters, stepSize, regParam=regParam, regType=regType,\n",
    "                        intercept=includeIntercept))\n",
    "        logLossVa = evaluateResults(model, labeledValidationData)\n",
    "        print ('\\tstepSize = {0:.1f}, regParam = {1:.0e}: logloss = {2:.3f}'\n",
    "               .format(stepSize, regParam, logLossVa))\n",
    "        if (logLossVa < bestLogLoss):\n",
    "            bestModel = model\n",
    "            bestLogLoss = logLossVa\n",
    "\n",
    "print ('Validation Logloss:\\n\\tBaseline = {0:.3f}\\n\\tLogReg = {1:.3f}'\n",
    "       .format(logLossValBase, bestLogLoss))"
   ]
  },
  {
   "cell_type": "markdown",
   "metadata": {},
   "source": [
    "### Plot ROC curve on validation data, for the best model found on the scan"
   ]
  },
  {
   "cell_type": "code",
   "execution_count": 69,
   "metadata": {
    "collapsed": false
   },
   "outputs": [
    {
     "data": {
      "image/png": "[encoded data removed]",
      "text/plain": [
       "<matplotlib.figure.Figure at 0x7f2691a89190>"
      ]
     },
     "metadata": {},
     "output_type": "display_data"
    }
   ],
   "source": [
    "labelsAndScores = labeledValidationData.map(lambda lp:\n",
    "                                            (float(lp.label), getP(lp.features, bestModel.weights, bestModel.intercept)))\n",
    "labelsAndWeights = labelsAndScores.collect()\n",
    "labelsAndWeights.sort(key=lambda (k, v): v, reverse=True)\n",
    "labelsByWeight = np.array([k for (k, v) in labelsAndWeights])\n",
    "\n",
    "length = labelsByWeight.size\n",
    "truePositives = labelsByWeight.cumsum()\n",
    "numPositive = truePositives[-1]\n",
    "falsePositives = np.arange(1.0, length + 1, 1.) - truePositives\n",
    "\n",
    "truePositiveRate = truePositives / numPositive\n",
    "falsePositiveRate = falsePositives / (length - numPositive)\n",
    "\n",
    "# Generate layout and plot data\n",
    "fig, ax = preparePlot(np.arange(0., 1.1, 0.1), np.arange(0., 1.1, 0.1))\n",
    "ax.set_xlim(-.05, 1.05), ax.set_ylim(-.05, 1.05)\n",
    "ax.set_ylabel('True Positive Rate (Sensitivity)')\n",
    "ax.set_xlabel('False Positive Rate (1 - Specificity)')\n",
    "plt.plot(falsePositiveRate, truePositiveRate, color='#8cbfd0', linestyle='-', linewidth=3.)\n",
    "plt.plot((0., 1.), (0., 1.), linestyle='--', color='#d6ebf2', linewidth=2.)  # Baseline model\n",
    "pass"
   ]
  },
  {
   "cell_type": "code",
   "execution_count": null,
   "metadata": {
    "collapsed": true
   },
   "outputs": [],
   "source": []
  }
 ],
 "metadata": {
  "kernelspec": {
   "display_name": "Python 2",
   "language": "python",
   "name": "python2"
  },
  "language_info": {
   "codemirror_mode": {
    "name": "ipython",
    "version": 2
   },
   "file_extension": ".py",
   "mimetype": "text/x-python",
   "name": "python",
   "nbconvert_exporter": "python",
   "pygments_lexer": "ipython2",
   "version": "2.7.6"
  }
 },
 "nbformat": 4,
 "nbformat_minor": 0
}
